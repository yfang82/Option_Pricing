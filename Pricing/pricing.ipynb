{
 "cells": [
  {
   "cell_type": "code",
   "execution_count": 3,
   "metadata": {},
   "outputs": [],
   "source": [
    "import numpy as np\n",
    "import matplotlib.pyplot as plt\n",
    "from IterativePricing import IterativePricing\n",
    "from plot_B import plot_B\n"
   ]
  },
  {
   "cell_type": "markdown",
   "metadata": {},
   "source": [
    "In this project, I will analyze and reproduce the method purposed in the paper A Simple Iterative Method for the Valuation of American Options. The method was derived from the Black-Scholes model and Little et al. (2000)’s idea of representing the value of American option (put) with European option value and a single integral involving the exercise boundary. By estimating the Exercise Boundary using iterative numerical method, the option value can be easily calculated. "
   ]
  },
  {
   "cell_type": "markdown",
   "metadata": {},
   "source": [
    "## Initialize IterativePricing object"
   ]
  },
  {
   "cell_type": "markdown",
   "metadata": {},
   "source": [
    "The IterativePricing class is written for solving the American Put Option value. In this example, we let risk-free interest rate r = 0.05, volatility of the underlying asset $\\sigma$ = 0.2, strike price K = 45, and maturity time T = 0.5 year. You can see details at IterativePricing.py"
   ]
  },
  {
   "cell_type": "code",
   "execution_count": 14,
   "metadata": {},
   "outputs": [],
   "source": [
    "ip = IterativePricing(r = 0.05, sigma = 0.2, K = 45, T = 0.5, num_nodes= 17)"
   ]
  },
  {
   "cell_type": "markdown",
   "metadata": {},
   "source": [
    "The method requires dividing maturity time T into time grids. We are evaluating the exercise boundary at {num_nodes} points, and there will be num_nodes-1 grids in total."
   ]
  },
  {
   "cell_type": "code",
   "execution_count": 15,
   "metadata": {},
   "outputs": [
    {
     "data": {
      "text/plain": [
       "array([0.     , 0.03125, 0.0625 , 0.09375, 0.125  , 0.15625, 0.1875 ,\n",
       "       0.21875, 0.25   , 0.28125, 0.3125 , 0.34375, 0.375  , 0.40625,\n",
       "       0.4375 , 0.46875, 0.5    ])"
      ]
     },
     "execution_count": 15,
     "metadata": {},
     "output_type": "execute_result"
    }
   ],
   "source": [
    "# divide T into num_nodes-1 grids\n",
    "ip.taos"
   ]
  },
  {
   "cell_type": "markdown",
   "metadata": {},
   "source": [
    "## Iterative Method Setup"
   ]
  },
  {
   "cell_type": "markdown",
   "metadata": {},
   "source": [
    "By Black-Scholes model and Little et al.(2000)'s paper, we get the following equation: \n",
    "$K - S_\\tau = p(S_\\tau, \\tau) + \\int_0^\\tau rK e^{-r(\\tau-\\xi)}\\mathbb{N}(-d_2(S_\\tau, \\tau - \\xi; B_\\xi)) d\\xi$, where $K - S_\\tau$ is the intrinsic value of put option when we exercise the put at time to maturity $\\tau$, K is the strike price, $p(S_\\tau, \\tau)$ is the corresponding European put value by Black-Scholes equation, and $B$ is the Exercise Boundary that we want to obtain."
   ]
  },
  {
   "cell_type": "markdown",
   "metadata": {},
   "source": [
    "We can substitute $S_\\tau$ as $\\epsilon B_\\tau$, $\\epsilon \\in (0,1]$, since we $S_\\tau$ must be below the Exercise boundary if we were to exercise the put option. Then, differentiate with respect to $\\epsilon$ and take the limit of $\\epsilon$ goes to 1."
   ]
  },
  {
   "cell_type": "markdown",
   "metadata": {},
   "source": [
    "After rearranging the equation and leave only $B_\\tau$ on the LHS, we obtain the following expression: $B_\\tau = \\frac{\\frac{1}{\\sigma \\sqrt{2\\pi \\tau}} K e^{ - \\left\\{ r\\tau + \\frac{1}{2} d_2(B_\\tau, \\tau; K)^2 \\right\\} } + rK \\int_0^\\tau \\frac{1}{\\sigma \\sqrt{2\\pi(\\tau-\\xi)}} re^{-\\left\\{ r(\\tau-\\xi) + \\frac{1}{2} d_2(B_\\tau, \\tau; B_\\xi)^2 \\right\\}} d\\xi}{\\mathbb{N}(d_1(B_\\tau, \\tau; K)) + \\frac{1}{\\sigma \\sqrt{2\\pi \\tau}} e^{-\\frac{1}{2} d_1(B_\\tau, \\tau; K)^2}}$\n",
    "\n"
   ]
  },
  {
   "cell_type": "markdown",
   "metadata": {},
   "source": [
    "While there's still $B_\\tau$ involved in RHS, we can solve $B_\\tau$ iteratively.The iterative method follows the below steps:\n",
    "1. Initialize $B_\\tau$ as K at every $\\tau$ (shown earlier in the code)\n",
    "2. In the first iteration, $B_\\tau$ has explicit form, since B0 = K. Calculate $B1_\\tau$ with this explicit form\n",
    "3. Approximate the entire Exercise boundary with Gaussian-quadrature rule. This can be achieved easily by certain Python libraries. \n",
    "4. Approximate the integral in the second term of RHS using polynomial interpolation. Use the function obtained in (3) to represent unknown B values in this step\n",
    "5. Calculate $B_\\tau$ with the above equation and repeat from step 3-5 using the new values of $B_\\tau$\n",
    "\n",
    "Please see the detailed implementation in IterativePricing.py"
   ]
  },
  {
   "cell_type": "code",
   "execution_count": 16,
   "metadata": {},
   "outputs": [
    {
     "data": {
      "text/plain": [
       "array([45.        , 42.02248164, 41.21535012, 40.65481576, 40.22091355,\n",
       "       39.86426527, 39.56040692, 39.29516544, 39.05955197, 38.84746553,\n",
       "       38.65456362, 38.47763216, 38.31422427, 38.16242411, 38.02071614,\n",
       "       37.88782464, 37.76300397])"
      ]
     },
     "execution_count": 16,
     "metadata": {},
     "output_type": "execute_result"
    }
   ],
   "source": [
    "hist_B = []\n",
    "for i in range(5):\n",
    "    if i == 0:\n",
    "        B = ip.first_iteration()\n",
    "    else:\n",
    "        B = ip.single_iteration(B)\n",
    "    hist_B.append(B)\n",
    "B"
   ]
  },
  {
   "cell_type": "markdown",
   "metadata": {},
   "source": [
    "## Calculating put value with Exercise boundaries\n"
   ]
  },
  {
   "cell_type": "markdown",
   "metadata": {},
   "source": [
    "With Exercise boundaries, put value, especially the put value at the beginning where $\\tau = T$ can be easily calculated using the first formula I presented in this notebook. \n",
    "\n",
    "Remark: Gaussian-quadrature and polynomial interpolation is once again needed here"
   ]
  },
  {
   "cell_type": "code",
   "execution_count": 17,
   "metadata": {},
   "outputs": [
    {
     "data": {
      "text/plain": [
       "2.095510750500755"
      ]
     },
     "execution_count": 17,
     "metadata": {},
     "output_type": "execute_result"
    }
   ],
   "source": [
    "# Calculate the value of the put at tau = T, S = 45\n",
    "ip.calc_put_value(45,B)"
   ]
  },
  {
   "cell_type": "markdown",
   "metadata": {},
   "source": [
    "## Plotting Iterations"
   ]
  },
  {
   "cell_type": "code",
   "execution_count": 18,
   "metadata": {},
   "outputs": [
    {
     "data": {
      "image/png": "[encoded data removed]",
      "text/plain": [
       "<Figure size 720x432 with 1 Axes>"
      ]
     },
     "metadata": {
      "needs_background": "light"
     },
     "output_type": "display_data"
    }
   ],
   "source": [
    "plot_B(hist_B)"
   ]
  },
  {
   "cell_type": "markdown",
   "metadata": {},
   "source": [
    "The exercise boundary converged after four iterations"
   ]
  },
  {
   "cell_type": "markdown",
   "metadata": {},
   "source": [
    "## Comparing with the Binomial Tree method for American Option Pricing"
   ]
  },
  {
   "cell_type": "markdown",
   "metadata": {},
   "source": [
    "Binomial Tree is a common and efficient method used to price American Options. In the original paper A Simple Iterative Method for the Valuation of American Options, the result from binomial tree method was set as the benchmark case as a comparison to the iterative method. However, the author didn't give the implementation of Binomial Tree in the paper. In this project, I implement the binomial tree method as a comparison on both speed and accuracy."
   ]
  },
  {
   "cell_type": "markdown",
   "metadata": {},
   "source": [
    "The following code is a simple implementation of the Binomial Tree method for American put option"
   ]
  },
  {
   "cell_type": "code",
   "execution_count": 19,
   "metadata": {},
   "outputs": [],
   "source": [
    "# Use the same parameters as before\n",
    "S = 45\n",
    "K = 45 \n",
    "T = 0.5 \n",
    "r = 0.05 \n",
    "sigma = 0.2  "
   ]
  },
  {
   "cell_type": "markdown",
   "metadata": {},
   "source": [
    "First, set up important parameters of the tree. Up factor represents the multiplier by which the asset's price increases in one time step, and down factor is the multiplier by which the asset's price decreases in one time step. The value is determined by the asset's volatility and time interval. The formula is given by $u = e^{\\sigma\\sqrt{\\Delta T}}$ and $d = e^{-\\sigma\\sqrt{\\Delta T}}$. In one time step, the price of the stock is either S*u if goes up or S*d if goes down."
   ]
  },
  {
   "cell_type": "code",
   "execution_count": 20,
   "metadata": {},
   "outputs": [],
   "source": [
    "N = 10000  # number of periods or number of time steps. Same as the paper\n",
    "\n",
    "deltaT = T/N  # Delta t\n",
    "u = np.exp(sigma * np.sqrt(deltaT))  # up factor\n",
    "d = np.exp(-sigma * np.sqrt(deltaT))\n"
   ]
  },
  {
   "cell_type": "markdown",
   "metadata": {},
   "source": [
    "In binomial tree method, we first obtain all possible stock prices at each time step given the current stock price S. This can be done by multiplying up factor or down factor each time. At maturity time T, there will be a list of possible stock prices $S_T$ given u and d. "
   ]
  },
  {
   "cell_type": "code",
   "execution_count": 23,
   "metadata": {},
   "outputs": [
    {
     "data": {
      "text/plain": [
       "array([3.24609369e-05, 3.25528802e-05, 3.26450840e-05, ...,\n",
       "       6.20307792e+07, 6.22064771e+07, 6.23826727e+07])"
      ]
     },
     "execution_count": 23,
     "metadata": {},
     "output_type": "execute_result"
    }
   ],
   "source": [
    "V = np.zeros(N + 1)  # vector to store values at each time step\n",
    "\n",
    "# Use binomial theorem to get all terminal nodes on the tree\n",
    "S_T = np.array([(S * u**j * d **(N - j)) for j in range(N + 1)]) \n",
    "\n",
    "S_T"
   ]
  },
  {
   "cell_type": "markdown",
   "metadata": {},
   "source": [
    "Values of optios at T is $max(K-S_T,0)$, meaning that the option is either exercised when strike is higher than stock price or not exercised. We can use $V_{S,T}$ to recursively calculate $V_{S,T-\\Delta t}$ by expressing it as an expectation: $V_{S,T-\\Delta t}$ = $[V_{S_u,T} p + V_{S_d,T}(1-p)]e^{-r\\Delta t}$. The same applies for all other time steps. By the end, $V_{S,0}$ represents the value of put option when $\\tau = T$. We will compare this value to that obtained from the iterative method on the paper.\n",
    "\n",
    "Remark: With no-arbitrage, for American options, the value will be $max(V_{S,t}, K-S_t)$, the second one being the intrinsic value of the put option at time t"
   ]
  },
  {
   "cell_type": "code",
   "execution_count": 24,
   "metadata": {},
   "outputs": [
    {
     "name": "stdout",
     "output_type": "stream",
     "text": [
      "American put option price by Binomial Tree is:  2.095030445179063\n"
     ]
    }
   ],
   "source": [
    "\n",
    "p = (np.exp(r*deltaT) - d) / (u - d)  # risk neutral up probability\n",
    "q = 1 - p  # risk neutral down probability\n",
    "\n",
    "V[:] = np.maximum(K - S_T, 0)\n",
    "\n",
    "for i in range(N-1,-1,-1):\n",
    "    # N time intervals in total, so calculate recursively N times\n",
    "    # the value vector is updated at each time step. Only the first i+1 value is valid after each update. \n",
    "    V[:-1] = np.exp(-r*deltaT)*(p * V[1:] + q * V[:-1])\n",
    "    \n",
    "    S_T = S_T * u  # calculate the price at the previous time step by backward 'going up' tree branches by one time step. Each time one value at the end will be invalid, but we can disregard that.\n",
    "\n",
    "    V = np.maximum(V, K - S_T)\n",
    "\n",
    "print(\"American put option price by Binomial Tree is: \", V[0])"
   ]
  },
  {
   "cell_type": "markdown",
   "metadata": {},
   "source": [
    "The result obtained by iterative method and binomial tree method are close, both at around 2.095. Although the two methods give similar prices, I still want to see whether they work in real life put options."
   ]
  },
  {
   "cell_type": "markdown",
   "metadata": {},
   "source": [
    "## Real-world example analysis\n",
    "I took the stock price of AAPL as of Aug.21st and the implied volatiltiy, and I will check whether theoretical result is somewhere close to the price that the put was trading at today. For the purpose of illustration I pick the puts that expires that 9-13 (so T = 0.06 approximately). Other length of expiration may lead to different results, and that requires further analysis."
   ]
  },
  {
   "cell_type": "code",
   "execution_count": 25,
   "metadata": {},
   "outputs": [
    {
     "name": "stdout",
     "output_type": "stream",
     "text": [
      "Put price of strike K = 220 by iterative method is 2.0249024157608497\n",
      "Put price of strike K = 225 by iterative method is 3.8585146868198317\n",
      "Put price of strike K = 230 by iterative method is 6.525472068087436\n"
     ]
    }
   ],
   "source": [
    "# Iterative method\n",
    "S = 226.40\n",
    "sigma = 0.215\n",
    "K_lst = [220,225,230]\n",
    "T = 0.06\n",
    "r = 0.04\n",
    "\n",
    "for K in K_lst:\n",
    "    ip = IterativePricing(r, sigma, K, T, num_nodes= 17)\n",
    "    for i in range(5):\n",
    "        if i == 0:\n",
    "            B = ip.first_iteration()\n",
    "        else:\n",
    "            B = ip.single_iteration(B)\n",
    "    \n",
    "    print(f\"Put price of strike K = {K} by iterative method is {ip.calc_put_value(S,B)}\")\n",
    "    "
   ]
  },
  {
   "cell_type": "code",
   "execution_count": 30,
   "metadata": {},
   "outputs": [
    {
     "name": "stdout",
     "output_type": "stream",
     "text": [
      "Put price of strike K = 220 by Binomial Tree is: 2.025499788353172\n",
      "Put price of strike K = 225 by Binomial Tree is: 3.8583104863946454\n",
      "Put price of strike K = 230 by Binomial Tree is: 6.525869253872257\n"
     ]
    }
   ],
   "source": [
    "# I wrote the binomial pricing in Binomial.py\n",
    "from Binomial import binomial_option_pricing\n",
    "for K in K_lst:\n",
    "    print(f\"Put price of strike K = {K} by Binomial Tree is: {binomial_option_pricing(T,sigma,r,N,K,S)}\")"
   ]
  },
  {
   "cell_type": "markdown",
   "metadata": {},
   "source": [
    "Again, the two methods give nearly the same result. If we look at the spot prices that the puts are trading at today, they are not far from what we get theoretically! For reference, mid price for put at strike 220, 225 230 is 2.26, 3.84, 6.85 at close. URL: https://www.optionistics.com/quotes/stock-option-chains/AAPL"
   ]
  },
  {
   "cell_type": "markdown",
   "metadata": {},
   "source": [
    "I also noticed that although the paper stated binomial tree method is time-consuming at N = 10000 level, my code was running with a fairly high speed. In contrast, the iterative method still needs more optimization, for example vectorizing the calculation, including some more difficult parts like Gaussian-quadrature and polynomial interpolation. The speed of the iterative method is not at its best potential, and this could be an object of further analysis."
   ]
  }
 ],
 "metadata": {
  "kernelspec": {
   "display_name": "Python 3",
   "language": "python",
   "name": "python3"
  },
  "language_info": {
   "codemirror_mode": {
    "name": "ipython",
    "version": 3
   },
   "file_extension": ".py",
   "mimetype": "text/x-python",
   "name": "python",
   "nbconvert_exporter": "python",
   "pygments_lexer": "ipython3",
   "version": "3.7.4"
  }
 },
 "nbformat": 4,
 "nbformat_minor": 2
}
